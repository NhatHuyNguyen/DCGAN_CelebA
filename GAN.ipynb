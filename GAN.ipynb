{
 "cells": [
  {
   "cell_type": "code",
   "execution_count": 3,
   "metadata": {},
   "outputs": [],
   "source": [
    "import os\n",
    "import time\n",
    "from matplotlib import pyplot as plt\n",
    "import tensorflow as tf\n",
    "from tensorflow.train import Checkpoint, CheckpointManager\n",
    "from tensorflow.data import Dataset\n",
    "from tensorflow.data.experimental import AUTOTUNE\n",
    "from tensorflow.keras.utils import plot_model\n",
    "from tensorflow.keras.models import Model, Sequential\n",
    "from tensorflow.keras.losses import BinaryCrossentropy\n",
    "from tensorflow.keras.metrics import Mean\n",
    "from tensorflow.keras.optimizers import Adam\n",
    "from tensorflow.keras.initializers import TruncatedNormal, RandomNormal\n",
    "from tensorflow.keras.layers import Input, Dense, Reshape, BatchNormalization, Conv2D, Conv2DTranspose, \\\n",
    "        LeakyReLU, Flatten, SpatialDropout2D, Dropout, MaxPool2D, GlobalAvgPool2D, Concatenate, LayerNormalization\n",
    "\n",
    "from IPython import display"
   ]
  },
  {
   "cell_type": "code",
   "execution_count": 4,
   "metadata": {},
   "outputs": [],
   "source": [
    "BASE_PATH = 'C:/Users/s4571730/Downloads/img_align_celeba'\n",
    "RANDOM_STATE = 7\n",
    "SHUFFLE_BUFFER = 32_000\n",
    "IMAGE_SIZE = (178, 218)\n",
    "BATCH_SIZE = 128\n",
    "GEN_NOISE_SHAPE = (6, 5, 8)\n",
    "PREDICT_COUNT = 9\n",
    "GEN_LR = 4e-6\n",
    "GEN_BETA_1 = 0.5\n",
    "DISC_LR = 1e-6\n",
    "DISC_BETA_1 = 0.9\n",
    "GEN_RELU_ALPHA = 0.2\n",
    "DISC_RELU_ALPHA = 0.3\n",
    "EPOCHS = 50\n",
    "DISC_LABEL_SMOOTHING = 0.25\n",
    "PLOTS_DPI = 150"
   ]
  },
  {
   "cell_type": "code",
   "execution_count": 5,
   "metadata": {},
   "outputs": [
    {
     "output_type": "stream",
     "name": "stdout",
     "text": [
      "Model: \"Generator\"\n_________________________________________________________________\nLayer (type)                 Output Shape              Param #   \n=================================================================\nflatten (Flatten)            (None, 240)               0         \n_________________________________________________________________\nGen_Dense (Dense)            (None, 15360)             3686400   \n_________________________________________________________________\nGen_Reshape (Reshape)        (None, 6, 5, 512)         0         \n_________________________________________________________________\nGen_SD_1 (SpatialDropout2D)  (None, 6, 5, 512)         0         \n_________________________________________________________________\nGen_Conv_T_1 (Conv2DTranspos (None, 6, 5, 512)         2359296   \n_________________________________________________________________\nGen_Conv_T_2 (Conv2DTranspos (None, 12, 10, 256)       1179648   \n_________________________________________________________________\nGen_BN_1 (BatchNormalization (None, 12, 10, 256)       1024      \n_________________________________________________________________\nGen_LR_1 (LeakyReLU)         (None, 12, 10, 256)       0         \n_________________________________________________________________\nGen_Conv_T_3 (Conv2DTranspos (None, 12, 10, 128)       524288    \n_________________________________________________________________\nGen_Conv_T_4 (Conv2DTranspos (None, 24, 20, 64)        131072    \n_________________________________________________________________\nGen_BN_2 (BatchNormalization (None, 24, 20, 64)        256       \n_________________________________________________________________\nGen_LR_2 (LeakyReLU)         (None, 24, 20, 64)        0         \n_________________________________________________________________\nGen_SD_3 (SpatialDropout2D)  (None, 24, 20, 64)        0         \n_________________________________________________________________\nGen_Conv_T_6 (Conv2DTranspos (None, 48, 40, 8)         18432     \n_________________________________________________________________\nGen_BN_4 (BatchNormalization (None, 48, 40, 8)         32        \n_________________________________________________________________\nGen_LR_4 (LeakyReLU)         (None, 48, 40, 8)         0         \n_________________________________________________________________\nGen_SD_4 (SpatialDropout2D)  (None, 48, 40, 8)         0         \n_________________________________________________________________\nGen_Conv_T_7 (Conv2DTranspos (None, 96, 80, 8)         3136      \n_________________________________________________________________\nGen_Conv_T_8 (Conv2DTranspos (None, 96, 80, 3)         600       \n=================================================================\nTotal params: 7,904,184\nTrainable params: 7,903,528\nNon-trainable params: 656\n_________________________________________________________________\n"
     ]
    }
   ],
   "source": [
    "def generator_model():\n",
    "    weight_init = TruncatedNormal(mean = 0.0, stddev = 0.02)\n",
    "    model = Sequential(name='Generator')\n",
    "    model.add(Flatten(input_shape=GEN_NOISE_SHAPE))\n",
    "    model.add(Dense(6 * 5 * 512, use_bias = False, kernel_initializer = weight_init, \n",
    "                activation = LeakyReLU(GEN_RELU_ALPHA), name = 'Gen_Dense'))\n",
    "    model.add(Reshape((6, 5, 512), name = 'Gen_Reshape'))\n",
    "    model.add(SpatialDropout2D(0.2, name = 'Gen_SD_1'))\n",
    "    model.add(Conv2DTranspose(512, (3, 3), padding='same', activation=LeakyReLU(GEN_RELU_ALPHA), use_bias = False,\n",
    "                               kernel_initializer=weight_init, name='Gen_Conv_T_1'))\n",
    "    model.add(Conv2DTranspose(256, (3, 3), padding = 'same', strides = (2, 2), use_bias = False,\n",
    "                               kernel_initializer = weight_init, name = 'Gen_Conv_T_2'))\n",
    "    model.add(BatchNormalization(name = 'Gen_BN_1'))\n",
    "    model.add(LeakyReLU(GEN_RELU_ALPHA, name = 'Gen_LR_1'))\n",
    "    model.add(Conv2DTranspose(128, (4, 4), padding = 'same', activation = LeakyReLU(GEN_RELU_ALPHA), use_bias = False, \n",
    "                               kernel_initializer = weight_init, name='Gen_Conv_T_3'))\n",
    "    model.add(Conv2DTranspose(64, (4, 4), padding = 'same', strides = (2, 2), use_bias = False, \n",
    "                               kernel_initializer = weight_init, name = 'Gen_Conv_T_4'))\n",
    "    model.add(BatchNormalization(name = 'Gen_BN_2'))\n",
    "    model.add(LeakyReLU(GEN_RELU_ALPHA, name = 'Gen_LR_2'))\n",
    "    model.add(SpatialDropout2D(0.15, name = 'Gen_SD_3'))\n",
    "    model.add(Conv2DTranspose(8, (6, 6), padding = 'same', strides = (2, 2), use_bias = False, \n",
    "                               kernel_initializer = weight_init, name = 'Gen_Conv_T_6'))\n",
    "    model.add(BatchNormalization(name = 'Gen_BN_4'))\n",
    "    model.add(LeakyReLU(GEN_RELU_ALPHA, name = 'Gen_LR_4'))\n",
    "    model.add(SpatialDropout2D(0.15, name = 'Gen_SD_4'))\n",
    "    model.add(Conv2DTranspose(8, (7, 7), padding = 'same', activation = LeakyReLU(GEN_RELU_ALPHA), use_bias = False,\n",
    "                               kernel_initializer = weight_init, strides = (2, 2), name = 'Gen_Conv_T_7'))\n",
    "    model.add(Conv2DTranspose(3, (5, 5), padding = 'same', kernel_initializer = weight_init, use_bias = False,\n",
    "                               activation = 'tanh', name = 'Gen_Conv_T_8'))\n",
    "    return model\n",
    "    \n",
    "generator = generator_model()\n",
    "generator.summary()"
   ]
  },
  {
   "cell_type": "code",
   "execution_count": null,
   "metadata": {},
   "outputs": [],
   "source": []
  }
 ],
 "metadata": {
  "kernelspec": {
   "display_name": "Python 3",
   "language": "python",
   "name": "python3"
  },
  "language_info": {
   "codemirror_mode": {
    "name": "ipython",
    "version": 3
   },
   "file_extension": ".py",
   "mimetype": "text/x-python",
   "name": "python",
   "nbconvert_exporter": "python",
   "pygments_lexer": "ipython3",
   "version": "3.8.5"
  }
 },
 "nbformat": 4,
 "nbformat_minor": 5
}