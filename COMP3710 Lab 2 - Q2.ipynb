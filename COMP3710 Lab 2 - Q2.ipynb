{
 "cells": [
  {
   "cell_type": "code",
   "execution_count": null,
   "source": [
    "from sklearn.datasets import fetch_lfw_people\r\n",
    "from sklearn.model_selection import train_test_split\r\n",
    "from sklearn.metrics import classification_report\r\n",
    "import numpy as np\r\n",
    "import tensorflow as tf\r\n",
    "from tensorflow.keras import models, layers"
   ],
   "outputs": [],
   "metadata": {}
  },
  {
   "cell_type": "code",
   "execution_count": null,
   "source": [
    "# Download the data, if not already on disk and load it as numpy arrays\r\n",
    "lfw_people = fetch_lfw_people(min_faces_per_person=70, resize=0.4)"
   ],
   "outputs": [],
   "metadata": {}
  },
  {
   "cell_type": "code",
   "execution_count": null,
   "source": [
    "X = lfw_people.data\r\n",
    "y = lfw_people.target"
   ],
   "outputs": [],
   "metadata": {}
  },
  {
   "cell_type": "code",
   "execution_count": null,
   "source": [
    "X_train, X_test, y_train, y_test = train_test_split(X, y, test_size=0.25, random_state=42)\r\n",
    "X_train = X_train / 255.0\r\n",
    "X_test = X_test / 255.0\r\n",
    "X_train = X_train[:, :, np.newaxis, np.newaxis]\r\n",
    "X_test = X_test[:, :, np.newaxis, np.newaxis]\r\n",
    "print(\"X_train shape:\", X_train.shape)"
   ],
   "outputs": [],
   "metadata": {}
  },
  {
   "cell_type": "code",
   "execution_count": null,
   "source": [
    "hidden_layers = 5000 \r\n",
    "input_shape =  (966,1850,1,1)\r\n",
    "model = tf.keras.models.Sequential()\r\n",
    "model.add(layers.Flatten(input_shape=input_shape))\r\n",
    "model.add(layers.Dense(hidden_layers, activation='relu'))\r\n",
    "model.add(layers.Dense(7))\r\n",
    "model.summary()"
   ],
   "outputs": [],
   "metadata": {}
  },
  {
   "cell_type": "code",
   "execution_count": null,
   "source": [
    "model.compile(optimizer='adam',\r\n",
    "              loss=tf.keras.losses.CategoricalCrossentropy(from_logits=True),\r\n",
    "              metrics=['accuracy'])\r\n",
    "model.fit(X_train, y_train, epochs=10, batch_size=250, validation_split=0.2)"
   ],
   "outputs": [],
   "metadata": {}
  }
 ],
 "metadata": {
  "orig_nbformat": 4,
  "language_info": {
   "name": "python"
  }
 },
 "nbformat": 4,
 "nbformat_minor": 2
}